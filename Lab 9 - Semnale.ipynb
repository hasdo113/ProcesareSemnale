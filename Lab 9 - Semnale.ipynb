{
 "cells": [
  {
   "cell_type": "code",
   "execution_count": 2,
   "id": "fa5b6d17",
   "metadata": {},
   "outputs": [],
   "source": [
    "from dictlearn import DictionaryLearning\n",
    "from dictlearn import methods\n",
    "from sklearn.preprocessing import normalize\n",
    "from sklearn.feature_extraction import image as img\n",
    "import numpy as np\n",
    "from matplotlib import image\n",
    "from random import randrange"
   ]
  },
  {
   "cell_type": "code",
   "execution_count": 3,
   "id": "067747fb",
   "metadata": {},
   "outputs": [],
   "source": [
    "p = 8 # dimensiunea unui patch (numar de pixeli)\n",
    "s = 6 # sparsitatea\n",
    "N = 1000 # numarul total de patch-uri\n",
    "n = 256 # numarul de atomi din dictionar\n",
    "K = 50 # numarul de iteratii DL\n",
    "sigma = 0.075 # deviatia standard a zgomotului"
   ]
  },
  {
   "cell_type": "code",
   "execution_count": 4,
   "id": "98e4ac17",
   "metadata": {},
   "outputs": [],
   "source": [
    "I = image.imread('barbara.png')"
   ]
  },
  {
   "cell_type": "code",
   "execution_count": 17,
   "id": "2047894b",
   "metadata": {},
   "outputs": [
    {
     "ename": "TypeError",
     "evalue": "only integer scalar arrays can be converted to a scalar index",
     "output_type": "error",
     "traceback": [
      "\u001b[1;31m---------------------------------------------------------------------------\u001b[0m",
      "\u001b[1;31mTypeError\u001b[0m                                 Traceback (most recent call last)",
      "Input \u001b[1;32mIn [17]\u001b[0m, in \u001b[0;36m<cell line: 13>\u001b[1;34m()\u001b[0m\n\u001b[0;32m      9\u001b[0m median \u001b[38;5;241m=\u001b[39m np\u001b[38;5;241m.\u001b[39mmean(Ynoisy, axis\u001b[38;5;241m=\u001b[39m\u001b[38;5;241m0\u001b[39m)\n\u001b[0;32m     11\u001b[0m Ynoisy \u001b[38;5;241m=\u001b[39m Ynoisy \u001b[38;5;241m-\u001b[39m median\n\u001b[1;32m---> 13\u001b[0m Y \u001b[38;5;241m=\u001b[39m \u001b[43mYnoisy\u001b[49m\u001b[43m[\u001b[49m\u001b[43m:\u001b[49m\u001b[43mnp\u001b[49m\u001b[38;5;241;43m.\u001b[39;49m\u001b[43mrandom\u001b[49m\u001b[38;5;241;43m.\u001b[39;49m\u001b[43mchoice\u001b[49m\u001b[43m(\u001b[49m\u001b[43mYnoisy\u001b[49m\u001b[38;5;241;43m.\u001b[39;49m\u001b[43mshape\u001b[49m\u001b[43m[\u001b[49m\u001b[38;5;241;43m1\u001b[39;49m\u001b[43m]\u001b[49m\u001b[43m,\u001b[49m\u001b[43mN\u001b[49m\u001b[43m)\u001b[49m\u001b[43m]\u001b[49m\n\u001b[0;32m     15\u001b[0m D0 \u001b[38;5;241m=\u001b[39m np\u001b[38;5;241m.\u001b[39mrandom\u001b[38;5;241m.\u001b[39mrandn(Y\u001b[38;5;241m.\u001b[39mshape[\u001b[38;5;241m0\u001b[39m], Y\u001b[38;5;241m.\u001b[39mshape[\u001b[38;5;241m1\u001b[39m])\n\u001b[0;32m     17\u001b[0m D0 \u001b[38;5;241m=\u001b[39m normalize(D0, axis \u001b[38;5;241m=\u001b[39m \u001b[38;5;241m0\u001b[39m, norm \u001b[38;5;241m=\u001b[39m \u001b[38;5;124m'\u001b[39m\u001b[38;5;124mmax\u001b[39m\u001b[38;5;124m'\u001b[39m)\n",
      "\u001b[1;31mTypeError\u001b[0m: only integer scalar arrays can be converted to a scalar index"
     ]
    }
   ],
   "source": [
    "Inoisy = I + sigma*np.random.randn(I.shape[0],I.shape[1])\n",
    "\n",
    "Ynoisy = img.extract_patches_2d(Inoisy, (8,8))\n",
    "\n",
    "Ynoisy = Ynoisy.reshape(Ynoisy.shape[0], -1)\n",
    "\n",
    "np.transpose(Ynoisy)\n",
    "\n",
    "median = np.mean(Ynoisy, axis=0)\n",
    "\n",
    "Ynoisy = Ynoisy - median\n",
    "\n",
    "Y = Ynoisy[:np.random.choice(Ynoisy.shape[1],N)]\n",
    "\n",
    "D0 = np.random.randn(Y.shape[0], Y.shape[1])\n",
    "\n",
    "D0 = normalize(D0, axis = 0, norm = 'max')"
   ]
  },
  {
   "cell_type": "code",
   "execution_count": null,
   "id": "fbac9be6",
   "metadata": {},
   "outputs": [],
   "source": []
  }
 ],
 "metadata": {
  "kernelspec": {
   "display_name": "Python 3 (ipykernel)",
   "language": "python",
   "name": "python3"
  },
  "language_info": {
   "codemirror_mode": {
    "name": "ipython",
    "version": 3
   },
   "file_extension": ".py",
   "mimetype": "text/x-python",
   "name": "python",
   "nbconvert_exporter": "python",
   "pygments_lexer": "ipython3",
   "version": "3.9.13"
  }
 },
 "nbformat": 4,
 "nbformat_minor": 5
}
